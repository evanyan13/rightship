{
 "cells": [
  {
   "cell_type": "code",
   "execution_count": 2,
   "metadata": {},
   "outputs": [],
   "source": [
    "import pandas as pd\n",
    "import numpy as np\n",
    "import seaborn as sns\n",
    "import matplotlib.pyplot as plt"
   ]
  },
  {
   "cell_type": "markdown",
   "metadata": {},
   "source": [
    "**Step 0: Import CSV File**"
   ]
  },
  {
   "cell_type": "code",
   "execution_count": 3,
   "metadata": {},
   "outputs": [
    {
     "data": {
      "text/plain": [
       "2822499    Container Ship\n",
       "2822500    Container Ship\n",
       "2822501    Container Ship\n",
       "2822502    Container Ship\n",
       "2822503    Container Ship\n",
       "                ...      \n",
       "2822594    Container Ship\n",
       "2822595    Container Ship\n",
       "2822596    Container Ship\n",
       "2822597    Container Ship\n",
       "2822598    Container Ship\n",
       "Name: group, Length: 100, dtype: object"
      ]
     },
     "metadata": {},
     "output_type": "display_data"
    }
   ],
   "source": [
    "file_path = \"/Users/evanyan13/2024/RightShip/vessel_movements/vessel_movements_PPT.csv\"\n",
    "\n",
    "vessel_df = pd.read_csv(file_path)\n",
    "display(vessel_df[\"group\"].tail(100))"
   ]
  },
  {
   "cell_type": "markdown",
   "metadata": {},
   "source": [
    "**Step 0.5: Clean the dataset**"
   ]
  },
  {
   "cell_type": "code",
   "execution_count": 4,
   "metadata": {},
   "outputs": [],
   "source": [
    "# Change speed null to 0\n",
    "vessel_df['speed'] = vessel_df['speed'].fillna(0.0)\n",
    "\n",
    "# remove 120273 data that is NA for \"anchorage\",\"berth\", \"maneuvering_zone\"\n",
    "vessel_df = vessel_df[~vessel_df.loc[:, [\"anchorage\",\"berth\", \"maneuvering_zone\"]].isna().all(1)]"
   ]
  },
  {
   "cell_type": "markdown",
   "metadata": {},
   "source": [
    "\n",
    "**Step 1: Determine the operating mode of the vessel at each AIS data point**"
   ]
  },
  {
   "cell_type": "code",
   "execution_count": 5,
   "metadata": {},
   "outputs": [
    {
     "data": {
      "text/plain": [
       "0    2\n",
       "1    2\n",
       "2    2\n",
       "3    2\n",
       "4    2\n",
       "Name: operating_mode, dtype: int64"
      ]
     },
     "metadata": {},
     "output_type": "display_data"
    }
   ],
   "source": [
    "conditions = [\n",
    "    ((vessel_df['speed'] > 1) | vessel_df['nav_stat'].isin([0, 3, 4, 8, 11, 12])) & vessel_df['maneuvering_zone'].isnull(),  \n",
    "    (vessel_df['anchorage'] == 'PPT Anchorage') & (vessel_df['speed'] < 1),  \n",
    "    ((vessel_df['speed'] > 1) | vessel_df['nav_stat'].isin([0, 3, 4, 8, 11, 12])) & (vessel_df['maneuvering_zone'] == 'PPT Maneouvering Zone'),  \n",
    "    (vessel_df['berth'].notnull()) & (vessel_df['speed'] < 1)\n",
    "]\n",
    "\n",
    "# Define the corresponding values for each condition\n",
    "values = [1, 2, 3, 4]\n",
    "\n",
    "# Create the new column using numpy.select\n",
    "vessel_df['operating_mode'] = np.select(conditions, values, default=0)\n",
    "display(vessel_df['operating_mode'].head())"
   ]
  },
  {
   "cell_type": "markdown",
   "metadata": {},
   "source": [
    "**Step 2: Log events at each timestamp**"
   ]
  },
  {
   "cell_type": "code",
   "execution_count": 6,
   "metadata": {},
   "outputs": [
    {
     "name": "stdout",
     "output_type": "stream",
     "text": [
      "2663186      NaN\n",
      "2663185     41.0\n",
      "2658468    267.0\n",
      "2658467     32.0\n",
      "2658466    268.0\n",
      "Name: event_duration_sec, dtype: float64\n"
     ]
    }
   ],
   "source": [
    "vessel_df = vessel_df.sort_values(['imo', 'timestamp'], ascending=[True, True]) \n",
    " \n",
    "vessel_df['lag_time'] = vessel_df.groupby(['imo'])['timestamp'].shift(1) \n",
    "vessel_df['event_duration'] = (pd.to_datetime(vessel_df['timestamp']) - pd.to_datetime(vessel_df['lag_time'])) \n",
    "vessel_df['event_duration_sec'] = vessel_df['event_duration'].dt.total_seconds() \n",
    "\n",
    "print(vessel_df['event_duration_sec'].head())"
   ]
  },
  {
   "cell_type": "markdown",
   "metadata": {},
   "source": [
    "**Step 3: Determine the vessel type**"
   ]
  },
  {
   "cell_type": "code",
   "execution_count": 7,
   "metadata": {},
   "outputs": [
    {
     "name": "stdout",
     "output_type": "stream",
     "text": [
      "2429116    True\n",
      "2429117    True\n",
      "2409788    True\n",
      "2429118    True\n",
      "2429119    True\n",
      "Name: is_ogv, dtype: bool\n"
     ]
    }
   ],
   "source": [
    "# Define the OGV types\n",
    "ogv_types = [\n",
    "    'Crude & Products Tanker',\n",
    "    'Chemical Tanker',\n",
    "    'Container Ship',\n",
    "    'General Cargo',\n",
    "    'Passenger/Cruise',\n",
    "    'Bulk Carrier',\n",
    "    'Auto Carrier',\n",
    "    'Reefer',\n",
    "    'RoRo',\n",
    "    'LPG Tanker'\n",
    "]\n",
    "\n",
    "# Create a new column 'is_ogv'\n",
    "vessel_df['is_ogv'] = vessel_df['group'].apply(lambda x: x in ogv_types)\n",
    "\n",
    "# Remove the 770493 columns that are not OGV\n",
    "vessel_df = vessel_df[vessel_df['is_ogv'] == 1]\n",
    "\n",
    "print(vessel_df['is_ogv'].head())"
   ]
  },
  {
   "cell_type": "markdown",
   "metadata": {},
   "source": [
    "**Step 3.5: Clean Data**"
   ]
  },
  {
   "cell_type": "code",
   "execution_count": 8,
   "metadata": {},
   "outputs": [
    {
     "data": {
      "text/plain": [
       "1926735"
      ]
     },
     "execution_count": 8,
     "metadata": {},
     "output_type": "execute_result"
    }
   ],
   "source": [
    "# as seen, there are 2684 with the default value 0\n",
    "\n",
    "#upon further insepction, the values fall under one of the 4 catagories\n",
    "# Speed 0.0, nav_stat = 5 (Moored (tied to another object to limit free movement)), but maneuvering_zone = 'PPT Maneouvering Zone'     2323\n",
    "# Speed 0.0, nav_stat = 1 (Anchored), but maneuvering_zone = 'PPT Maneouvering Zone'      218\n",
    "# Speed 0.0, nav_stat = 15 (Undefined (default)), but maneuvering_zone = 'PPT Maneouvering Zone'     130\n",
    "# Speed 0.0, nav_stat = 2 (Not under command), but maneuvering_zone = 'PPT Maneouvering Zone'       13\n",
    "\n",
    "vessel_df = vessel_df[vessel_df['operating_mode'] != 0]\n",
    "\n",
    "len(vessel_df)"
   ]
  },
  {
   "cell_type": "markdown",
   "metadata": {},
   "source": [
    "**Step 4: Determine Emissions Tier**"
   ]
  },
  {
   "cell_type": "code",
   "execution_count": 9,
   "metadata": {},
   "outputs": [
    {
     "data": {
      "text/plain": [
       "2679458    3\n",
       "2687878    3\n",
       "2687877    3\n",
       "2687876    3\n",
       "2679457    3\n",
       "Name: emission_tier, dtype: int64"
      ]
     },
     "metadata": {},
     "output_type": "display_data"
    }
   ],
   "source": [
    "vessel_df[\"formatted_date\"] = pd.to_datetime(vessel_df[\"date_of_build\"], format=\"%Y-%m-%d\")\n",
    "vessel_df[\"model_year\"] = vessel_df[\"formatted_date\"].dt.year\n",
    "\n",
    "# Split into bins: Pre-2000, 2000-2010, post 2010, 2011-2015, post 2015\n",
    "# We need to consider BOTH fuel_category and model_year!\n",
    "def update_value(row):\n",
    "    my = row[\"model_year\"]\n",
    "    fc = row[\"fuel_category\"]\n",
    "    if my < 2000:\n",
    "        return \"Pre-2000\"\n",
    "    elif my >= 2000 and my < 2010:\n",
    "        return \"2000-2010\"\n",
    "    elif my >= 2010 and my < 2015 and fc == 3:\n",
    "        return \"2011-2015\"\n",
    "    elif my >= 2010 and my < 2015:\n",
    "        return \"post 2010\"\n",
    "    else:\n",
    "        return \"post 2015\"\n",
    "\n",
    "vessel_df[\"model_year_category\"] = vessel_df.apply(update_value, axis=1)\n",
    "\n",
    "def update_emission_tier(row):\n",
    "    my = row[\"model_year_category\"]\n",
    "    if my == \"Pre-2000\":\n",
    "        return 0 \n",
    "    elif my == \"2000-2010\":\n",
    "        return 1\n",
    "    elif my == \"post 2010\":\n",
    "        return 2\n",
    "    elif my == \"2011-2015\":\n",
    "        return 2 \n",
    "    else: \n",
    "        return 3\n",
    "    \n",
    "vessel_df[\"emission_tier\"] = vessel_df.apply(update_emission_tier, axis=1)\n",
    "display(vessel_df[\"emission_tier\"].tail())"
   ]
  },
  {
   "cell_type": "markdown",
   "metadata": {},
   "source": [
    "**Step 5: Determine Fuel Category**\n",
    "\n",
    "Ports have defined fuel categories (e.g. High Sulphur, Global 0.5%, ECA).\n",
    "\n",
    "For 2023, Singapore will fall under Global 2020."
   ]
  },
  {
   "cell_type": "markdown",
   "metadata": {},
   "source": [
    "**Step 6: Retrieve specific ship details for all vessels that are within the port boundary**\n",
    "1. Main engine SFC (sfc_me)\n",
    "2. Aux engine SFC (sfc_ae)\n",
    "3. Auxiliary Boiler SFC (sfc_ab)"
   ]
  },
  {
   "cell_type": "markdown",
   "metadata": {},
   "source": [
    "**Step 7: Calculate Emissions**\n",
    "\n",
    "This step is dependent on the previous steps. Refer to below explanation for emission calculations"
   ]
  },
  {
   "cell_type": "markdown",
   "metadata": {},
   "source": [
    "**Step 7a: Get the following parameters from the vessel movements data:**\n",
    "* p\n",
    "* Reference speed (vref)\n",
    "* Actual speed (AS)"
   ]
  },
  {
   "cell_type": "markdown",
   "metadata": {},
   "source": [
    "**Step 7b: Calculate maximum speed**\n",
    "\n",
    "Formula:\n",
    "\n",
    ">> Maximum Speed (MS) = 1.066 x vref"
   ]
  },
  {
   "cell_type": "markdown",
   "metadata": {},
   "source": [
    "**Step 7c: Get activity hours (A) for each operating mode**\n",
    "\n",
    "This was calculated in Step 2."
   ]
  },
  {
   "cell_type": "markdown",
   "metadata": {},
   "source": [
    "**Step 7d (i): Calculate Engine Load Factor (LF) for propulsion engines**\n",
    "\n",
    " >\\\\(LF =(AS/MS){^3}\\\\)\n",
    "<br>Where</br> \n",
    "  LF = Load Factor\n",
    "  <br>AS =  Actual speed (knots)</br>\n",
    "    MS = Maximum speed (knots)"
   ]
  },
  {
   "cell_type": "markdown",
   "metadata": {},
   "source": [
    "**Step 7d(ii): Look up Low Load Adjustment Factor (LLAF) using LF calculated in Step 7d(i)**\n",
    "\n",
    "* Refer to llaf_table\n",
    "* LLAF is not applicable if LF is more than 0.2. LLAF will be 1 in such cases."
   ]
  },
  {
   "cell_type": "markdown",
   "metadata": {},
   "source": [
    "Note: Propulsion engine emission can only be calculated for transit and maneuver modes since at other times the main engine is not running."
   ]
  },
  {
   "cell_type": "markdown",
   "metadata": {},
   "source": [
    "**Step 7e: If LF < 0.2 and mode is transit or maneuver, then LF will be defaulted to 0 .2.**\n",
    "\n",
    "Note: this default is not applied when identifying LLAF"
   ]
  },
  {
   "cell_type": "markdown",
   "metadata": {},
   "source": [
    "**Step 7f: Emission factor (EF) table is provided.  Singapore is a non-Emission Controlled Area (ECA) so Global 2020 rows are applicable. The EF table has some formulas applied for certain pollutants:**\n",
    "<br>\n",
    "1. NOx\n",
    "\n",
    "* Refer to tables Propulsion Engine Emission Factors and Auxiliary Engine Emission Factors for main engine and auxiliary engine. The values used are dependent on Engine Type and Emissions Tier in vessel movements table.\n",
    "\n",
    "* Do the same for Auxiliary Boiler (Boiler Engine Emission Factors table).\n",
    "\n",
    "2. PM10 will be calculated as follows:\n",
    "* Main Engine and Auxiliary Engine = 0.23 + (sfc_me or sfc_ae ) x 7 x 0.02247 x (0.005-0.0024)\n",
    "* Boiler = direct look up to Boiler Engine Emission Factors table\n",
    "\n",
    "3. PM2.5 = 0.92 x PM10\n",
    "\n",
    "4. VOC = direct look up EngineType column in vessel movements table.\n",
    "\n",
    "5. SOx – Refer to vessel movements table.\n",
    "* For Main Engine= sfc_me x 2 x 0.97753 x 0.005\n",
    "* For Auxiliary engine= sfc_ae x 2 x 0.97753 x 0.005\n",
    "* For Auxiliary Boiler= sfc_ab x 2 x 0.97753 x 0.005\n",
    "\n",
    "6. CO2 - Refer to vessel movements table\n",
    "* For Main Engine= sfc_me x 0.867 x 3.667\n",
    "* For Auxiliary engine= sfc_ae x 0.867 x 3.667\n",
    "* For Auxiliary Boiler= sfc_ab x 0.867 x 3.667\n",
    "\n",
    "7. CH4 - Refer to vessel movements table\n",
    "* For Main Engine and Auxiliary Boiler = corresponding direct look up Propulsion Engine Emission Factors and Auxiliary Engine Emission Factors with reference to Columns EngineType and EmissionsTier\n",
    "* For Aux engine = Dependent on Auxiliary engine load (Column ael) and EmissionsTier, direct look-up\n",
    "\n",
    "8. N2O – EngineType and EmissionsTier, dependent look up"
   ]
  },
  {
   "cell_type": "markdown",
   "metadata": {},
   "source": [
    "**Step 7h:\tIn vessel movements data, identify the below:**\n",
    "\n",
    "LA = Auxiliary Engine load (Column ael)\n",
    "<br>\n",
    "LB = Auxiliary Boiler load (Column abl)"
   ]
  },
  {
   "cell_type": "markdown",
   "metadata": {},
   "source": [
    "Note: \n",
    "*Total emissions of a certain pollutant type = Sum of emissions from Main Engine, Auxiliary engine and Auxiliary Boiler\n",
    "\n",
    "*Focus is not calculation of any other pollutants outside this discussion.\n",
    "<br></br>\n"
   ]
  },
  {
   "cell_type": "markdown",
   "metadata": {},
   "source": [
    "**Total Electrical Load Analysis**\n",
    "\n",
    "Alongside or hotel load is the electrical load when the vessel is at the terminal/berth. In this mode the Main Engine is off since the Propulsion is not happening. Auxiliary Engines are running since they need to supply the electrical load for the ship and loading/discharging operating machineries.\n",
    "<br></br>\n",
    "Auxiliary Boilers produce steam and hence cannot be plugged into the electrical grid and there is no machinery onboard to generate steam.\n",
    "<br></br>\n",
    "Hence, for the purpose of this scope the Auxiliary engine load (column ael) in alongside mode will be used to identify the electrical load demand of the ships.\n",
    "<br></br>\n",
    "Total electrical demand from ship in alongside mode (Tael) = time-weighted average electrical load (ael) in alongside mode = (Sum of Product of Ael multiplied by alongside duration hours) divide by (Sum of total alongside duration in hours)."
   ]
  },
  {
   "cell_type": "markdown",
   "metadata": {},
   "source": [
    "**Load demand variation from the grid through day and night on a monthly basis**\n",
    "\n",
    "1. For each “Alongside” operation mode, identify the time of the day as per below definition of Day and Night from timestamp column in vessel movements table.\n",
    "* Day = 0900 to 1700 hours\n",
    "* Night = 1700 to 0900 hours\n",
    "2. Create visualizations to analyze the trends of the daily and monthly demand on the shore supply grid.\n",
    "3. For DayEL and NightEL results, use the formula provided in previous section for the associated time description stated above.\n",
    "<br></br>\n",
    "NOTE: This day/ night demand can vary significantly depending on the weather and time of year in many parts of the world if not so much in Singapore. Example, winter may lead to smaller daylight time and hence more demand for vessel’s external lights to be on and vice versa. \n",
    "\n"
   ]
  }
 ],
 "metadata": {
  "kernelspec": {
   "display_name": "Python 3 (ipykernel)",
   "language": "python",
   "name": "python3"
  },
  "language_info": {
   "codemirror_mode": {
    "name": "ipython",
    "version": 3
   },
   "file_extension": ".py",
   "mimetype": "text/x-python",
   "name": "python",
   "nbconvert_exporter": "python",
   "pygments_lexer": "ipython3",
   "version": "3.11.5"
  }
 },
 "nbformat": 4,
 "nbformat_minor": 2
}
